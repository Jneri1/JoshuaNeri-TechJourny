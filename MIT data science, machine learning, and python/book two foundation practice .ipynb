{
 "cells": [
  {
   "cell_type": "code",
   "execution_count": 1,
   "id": "a80f9fc3",
   "metadata": {},
   "outputs": [
    {
     "data": {
      "text/plain": [
       "numpy.ndarray"
      ]
     },
     "execution_count": 1,
     "metadata": {},
     "output_type": "execute_result"
    }
   ],
   "source": [
    "import numpy as np\n",
    "array = np.array([4,9,16,25])\n",
    "type(array)"
   ]
  },
  {
   "cell_type": "code",
   "execution_count": 2,
   "id": "9c7ee84e",
   "metadata": {},
   "outputs": [
    {
     "name": "stdout",
     "output_type": "stream",
     "text": [
      "['Cricket' 'Football' 'Tennis' 'Golf' 'Baseball']\n"
     ]
    }
   ],
   "source": [
    "sports = ['Cricket', 'Football', 'Tennis', 'Golf', 'Baseball']\n",
    "sports_new = np.array(sports)\n",
    "print(sports_new)"
   ]
  },
  {
   "cell_type": "code",
   "execution_count": 4,
   "id": "128edbde",
   "metadata": {},
   "outputs": [],
   "source": [
    "import numpy as np\n",
    "a = np.array([[1,0,1,0,2,3], [1,3,0,1,2,0], [0,1,0,0,1,3]])"
   ]
  },
  {
   "cell_type": "code",
   "execution_count": 13,
   "id": "dcf06f32",
   "metadata": {},
   "outputs": [
    {
     "data": {
      "text/plain": [
       "1"
      ]
     },
     "execution_count": 13,
     "metadata": {},
     "output_type": "execute_result"
    }
   ],
   "source": [
    "a[2,1]"
   ]
  },
  {
   "cell_type": "code",
   "execution_count": 10,
   "id": "0fef539d",
   "metadata": {},
   "outputs": [
    {
     "data": {
      "text/plain": [
       "array([10, 14, 17])"
      ]
     },
     "execution_count": 10,
     "metadata": {},
     "output_type": "execute_result"
    }
   ],
   "source": [
    "sample_array = np.array([10, 11, 12, 13, 14, 15, 16, 17, 18, 19, 20])\n",
    "sample_array[[0,4,7]]"
   ]
  },
  {
   "cell_type": "code",
   "execution_count": null,
   "id": "3668d4ac",
   "metadata": {},
   "outputs": [],
   "source": [
    "sample_array = np.array([10, 11, 12, 13, 14, 15, 16, 17, 18, 19, 20])"
   ]
  },
  {
   "cell_type": "code",
   "execution_count": 14,
   "id": "92786313",
   "metadata": {},
   "outputs": [
    {
     "data": {
      "text/plain": [
       "array([10, 11, 12, 13])"
      ]
     },
     "execution_count": 14,
     "metadata": {},
     "output_type": "execute_result"
    }
   ],
   "source": [
    "sample_array[0:4]"
   ]
  },
  {
   "cell_type": "code",
   "execution_count": 15,
   "id": "70787234",
   "metadata": {},
   "outputs": [
    {
     "name": "stdout",
     "output_type": "stream",
     "text": [
      "[[0 1]\n",
      " [3 0]\n",
      " [1 0]]\n"
     ]
    }
   ],
   "source": [
    "a = np.array([[1,0,1,0,2,3], [1,3,0,1,2,0], [0,1,0,0,1,3]])\n",
    "b = a[:,1:3]\n",
    "print(b)"
   ]
  },
  {
   "cell_type": "code",
   "execution_count": 16,
   "id": "e9a04e2d",
   "metadata": {},
   "outputs": [
    {
     "name": "stdout",
     "output_type": "stream",
     "text": [
      "[[False  True False  True]\n",
      " [False False False False]]\n"
     ]
    }
   ],
   "source": [
    "array1 = np.array([[0,3,2,5],[1,0,2,-2]])\n",
    "print(array1 >= 3)"
   ]
  },
  {
   "cell_type": "code",
   "execution_count": 17,
   "id": "6dbc6b76",
   "metadata": {},
   "outputs": [
    {
     "name": "stdout",
     "output_type": "stream",
     "text": [
      "[[  4  36 100]\n",
      " [ 16  64 144]]\n"
     ]
    }
   ],
   "source": [
    "array2 = np.array([[1,3,5],[2,4,6]])\n",
    "print((array2*2)**2)"
   ]
  },
  {
   "cell_type": "code",
   "execution_count": 18,
   "id": "5bb7022c",
   "metadata": {},
   "outputs": [
    {
     "data": {
      "text/plain": [
       "array([5, 6, 7])"
      ]
     },
     "execution_count": 18,
     "metadata": {},
     "output_type": "execute_result"
    }
   ],
   "source": [
    "a = np.array([0, 1, 2])\n",
    "b = np.array([5, 5, 5])\n",
    "a + b\n",
    "a + 5"
   ]
  },
  {
   "cell_type": "code",
   "execution_count": 19,
   "id": "3ab43471",
   "metadata": {},
   "outputs": [
    {
     "data": {
      "text/plain": [
       "81"
      ]
     },
     "execution_count": 19,
     "metadata": {},
     "output_type": "execute_result"
    }
   ],
   "source": [
    "a=np.arange(10)\n",
    "b=np.power(a,2)\n",
    "b.max()"
   ]
  },
  {
   "cell_type": "code",
   "execution_count": 20,
   "id": "5077c7af",
   "metadata": {},
   "outputs": [
    {
     "name": "stdout",
     "output_type": "stream",
     "text": [
      "1\n"
     ]
    }
   ],
   "source": [
    "print((2**3)//5)"
   ]
  },
  {
   "cell_type": "code",
   "execution_count": 21,
   "id": "b47b3de5",
   "metadata": {},
   "outputs": [
    {
     "name": "stdout",
     "output_type": "stream",
     "text": [
      "True False True\n"
     ]
    }
   ],
   "source": [
    "print(27/2==13.5, 27%2!=1, 27//2==13)"
   ]
  },
  {
   "cell_type": "code",
   "execution_count": 22,
   "id": "4c4c4fd9",
   "metadata": {},
   "outputs": [
    {
     "name": "stdout",
     "output_type": "stream",
     "text": [
      "2\n"
     ]
    }
   ],
   "source": [
    "i=8\n",
    "\n",
    "i=+2\n",
    "\n",
    "print(i)"
   ]
  },
  {
   "cell_type": "code",
   "execution_count": 23,
   "id": "28fcb1a7",
   "metadata": {},
   "outputs": [
    {
     "name": "stdout",
     "output_type": "stream",
     "text": [
      "[2, 1, 2, 0, 2, 4]\n"
     ]
    }
   ],
   "source": [
    "number=[0,1,2,3,4,5]\n",
    "\n",
    "print( number[2:3] + number[1:3] + number[0:6:2])"
   ]
  },
  {
   "cell_type": "code",
   "execution_count": 29,
   "id": "db153019",
   "metadata": {},
   "outputs": [
    {
     "name": "stdout",
     "output_type": "stream",
     "text": [
      "['ML', 'Deep Learning', 'AI', 'ML', 'Deep Learning', 'AI']\n"
     ]
    }
   ],
   "source": [
    "course=['ML', 'Data Science', 'AI', 'Python']\n",
    "\n",
    "course.insert(1, 'Deep Learning')\n",
    "\n",
    "del course[2]\n",
    "\n",
    "course.remove('Python')\n",
    "\n",
    "course = course*2\n",
    "print(course)"
   ]
  },
  {
   "cell_type": "code",
   "execution_count": 35,
   "id": "485a5a43",
   "metadata": {},
   "outputs": [
    {
     "name": "stdout",
     "output_type": "stream",
     "text": [
      "[1, 2, 3]\n"
     ]
    }
   ],
   "source": [
    "number=[1, 2, 2, 3, 2, 3, 1, 3]\n",
    "\n",
    "s=set(number)\n",
    "\n",
    "number=list(s)\n",
    "\n",
    "print(number)"
   ]
  },
  {
   "cell_type": "code",
   "execution_count": 36,
   "id": "0efed60d",
   "metadata": {},
   "outputs": [
    {
     "name": "stdout",
     "output_type": "stream",
     "text": [
      "nine\n",
      "ten\n",
      "ten\n"
     ]
    }
   ],
   "source": [
    "if 4+5==9:\n",
    "    print(\"nine\")\n",
    "if 5+5==9:\n",
    "    print(\"nine\")\n",
    "else:\n",
    "    print(\"ten\")\n",
    "print(\"ten\")"
   ]
  },
  {
   "cell_type": "code",
   "execution_count": 37,
   "id": "2ca0ca83",
   "metadata": {},
   "outputs": [
    {
     "name": "stdout",
     "output_type": "stream",
     "text": [
      "4\n",
      "9\n",
      "25\n",
      "36\n",
      "81\n"
     ]
    }
   ],
   "source": [
    "l=[2,3,5,6,9]\n",
    "for i in l:\n",
    "    print(i**2)"
   ]
  },
  {
   "cell_type": "code",
   "execution_count": 39,
   "id": "3f09f57a",
   "metadata": {},
   "outputs": [
    {
     "name": "stdout",
     "output_type": "stream",
     "text": [
      "r\n",
      "a\n",
      "a\n",
      "I\n"
     ]
    }
   ],
   "source": [
    "l=[\"Great Learning\", \"Data Science\", \"Machine Learning\", \"AI\"]\n",
    "for i in l:\n",
    "    print(i[1])"
   ]
  },
  {
   "cell_type": "code",
   "execution_count": 40,
   "id": "8c8f3181",
   "metadata": {},
   "outputs": [
    {
     "name": "stdout",
     "output_type": "stream",
     "text": [
      "0\n",
      "1\n",
      "2\n",
      "3\n",
      "4\n",
      "5\n"
     ]
    }
   ],
   "source": [
    "i=0\n",
    "\n",
    "while i<=5:\n",
    "\n",
    "       print(i)\n",
    "\n",
    "       i+=1"
   ]
  },
  {
   "cell_type": "code",
   "execution_count": 41,
   "id": "61a490cc",
   "metadata": {},
   "outputs": [
    {
     "name": "stdout",
     "output_type": "stream",
     "text": [
      "0\n",
      "1\n",
      "2\n",
      "3\n",
      "4\n"
     ]
    }
   ],
   "source": [
    "i=0\n",
    "\n",
    "while i<5:\n",
    "\n",
    "       print(i)\n",
    "\n",
    "       i+=1"
   ]
  },
  {
   "cell_type": "code",
   "execution_count": 45,
   "id": "c17dfd48",
   "metadata": {},
   "outputs": [
    {
     "name": "stdout",
     "output_type": "stream",
     "text": [
      "2\n",
      "3\n",
      "4\n",
      "5\n",
      "6\n"
     ]
    }
   ],
   "source": [
    "i=0\n",
    "\n",
    "while i<5:\n",
    "\n",
    "       i+=1\n",
    "\n",
    "       print(i+1)"
   ]
  },
  {
   "cell_type": "code",
   "execution_count": 46,
   "id": "1bdbbdd5",
   "metadata": {},
   "outputs": [
    {
     "name": "stdout",
     "output_type": "stream",
     "text": [
      "1\n",
      "2\n",
      "3\n",
      "4\n"
     ]
    }
   ],
   "source": [
    "i=0\n",
    "\n",
    "while i<4:\n",
    "\n",
    "       print(i+1)\n",
    "\n",
    "       i+=1"
   ]
  },
  {
   "cell_type": "code",
   "execution_count": 47,
   "id": "b9214e80",
   "metadata": {},
   "outputs": [],
   "source": [
    "def square(n):\n",
    "    return n*n"
   ]
  },
  {
   "cell_type": "code",
   "execution_count": 48,
   "id": "0f26746e",
   "metadata": {},
   "outputs": [
    {
     "data": {
      "text/plain": [
       "4"
      ]
     },
     "execution_count": 48,
     "metadata": {},
     "output_type": "execute_result"
    }
   ],
   "source": [
    "square(2)"
   ]
  },
  {
   "cell_type": "code",
   "execution_count": 49,
   "id": "355ca10a",
   "metadata": {},
   "outputs": [],
   "source": [
    "def addition(a, b):\n",
    "    print(a+b)"
   ]
  },
  {
   "cell_type": "code",
   "execution_count": 52,
   "id": "2b615518",
   "metadata": {},
   "outputs": [
    {
     "name": "stdout",
     "output_type": "stream",
     "text": [
      "[ 0  2  6 12 20 30 42 56 72 90]\n"
     ]
    }
   ],
   "source": [
    "addition(a,b)"
   ]
  },
  {
   "cell_type": "code",
   "execution_count": 53,
   "id": "8d68648a",
   "metadata": {},
   "outputs": [],
   "source": [
    "def search(seq):\n",
    "    for i in seq:\n",
    "        if i==8:\n",
    "            return 8\n",
    "        else:\n",
    "            print(i)"
   ]
  },
  {
   "cell_type": "code",
   "execution_count": 54,
   "id": "5dca7099",
   "metadata": {},
   "outputs": [
    {
     "name": "stdout",
     "output_type": "stream",
     "text": [
      "2\n",
      "7\n",
      "1\n"
     ]
    }
   ],
   "source": [
    "seq=[2, 7, 1, 8, 1, 4]\n",
    "n=search(seq)"
   ]
  },
  {
   "cell_type": "code",
   "execution_count": 55,
   "id": "d6624c1e",
   "metadata": {},
   "outputs": [],
   "source": [
    "def add(a,b,c):\n",
    "\n",
    "       sum=0\n",
    "\n",
    "       sum=a+b+c\n",
    "\n",
    "       return sum\n",
    "\n",
    "sum=add(1,2,3)"
   ]
  },
  {
   "cell_type": "code",
   "execution_count": 61,
   "id": "3e7466e2",
   "metadata": {},
   "outputs": [
    {
     "ename": "IndentationError",
     "evalue": "unindent does not match any outer indentation level (<tokenize>, line 6)",
     "output_type": "error",
     "traceback": [
      "\u001b[1;36m  File \u001b[1;32m\"<tokenize>\"\u001b[1;36m, line \u001b[1;32m6\u001b[0m\n\u001b[1;33m    sum+=i\u001b[0m\n\u001b[1;37m    ^\u001b[0m\n\u001b[1;31mIndentationError\u001b[0m\u001b[1;31m:\u001b[0m unindent does not match any outer indentation level\n"
     ]
    }
   ],
   "source": [
    "def add(**kwargs):\n",
    "           sum=0\n",
    "\n",
    "           for i in kwargs:\n",
    "\n",
    "        sum+=i\n",
    "\n",
    "    return sum\n",
    "\n",
    "sum=add(1,2,3)"
   ]
  },
  {
   "cell_type": "code",
   "execution_count": 59,
   "id": "dcb3c364",
   "metadata": {},
   "outputs": [
    {
     "ename": "IndentationError",
     "evalue": "unindent does not match any outer indentation level (<tokenize>, line 9)",
     "output_type": "error",
     "traceback": [
      "\u001b[1;36m  File \u001b[1;32m\"<tokenize>\"\u001b[1;36m, line \u001b[1;32m9\u001b[0m\n\u001b[1;33m    return sum\u001b[0m\n\u001b[1;37m    ^\u001b[0m\n\u001b[1;31mIndentationError\u001b[0m\u001b[1;31m:\u001b[0m unindent does not match any outer indentation level\n"
     ]
    }
   ],
   "source": [
    "def add(*args):\n",
    "\n",
    "          sum=0\n",
    "\n",
    "           for i in args:\n",
    "\n",
    "                  sum+=i\n",
    "\n",
    "            return sum\n",
    "\n",
    "sum=add(1,2,3)"
   ]
  },
  {
   "cell_type": "code",
   "execution_count": 62,
   "id": "8826bc82",
   "metadata": {},
   "outputs": [],
   "source": [
    "def add(l):\n",
    "\n",
    "           sum=0\n",
    "\n",
    "           for i in l:\n",
    "\n",
    "                  sum+=i\n",
    "\n",
    "           return sum\n",
    "\n",
    "l=[1,2,3]\n",
    "\n",
    "sum=add(l)"
   ]
  },
  {
   "cell_type": "code",
   "execution_count": 63,
   "id": "953ed2c7",
   "metadata": {},
   "outputs": [
    {
     "data": {
      "text/plain": [
       "6"
      ]
     },
     "execution_count": 63,
     "metadata": {},
     "output_type": "execute_result"
    }
   ],
   "source": [
    "def add():\n",
    "\n",
    "           sum=0\n",
    "\n",
    "           l=[1,2,3]\n",
    "\n",
    "           for i in l:\n",
    "\n",
    "                  sum+=i\n",
    "\n",
    "           return sum\n",
    "\n",
    "add()"
   ]
  },
  {
   "cell_type": "code",
   "execution_count": 64,
   "id": "1bda79ba",
   "metadata": {},
   "outputs": [],
   "source": [
    "def func(num1):\n",
    "    print(num1)"
   ]
  },
  {
   "cell_type": "code",
   "execution_count": 65,
   "id": "4427c8dd",
   "metadata": {},
   "outputs": [
    {
     "name": "stdout",
     "output_type": "stream",
     "text": [
      "20\n"
     ]
    }
   ],
   "source": [
    "num2=20\n",
    "func(num2)"
   ]
  },
  {
   "cell_type": "code",
   "execution_count": 66,
   "id": "af4dda47",
   "metadata": {},
   "outputs": [],
   "source": [
    "def odd(n):\n",
    "    print(\"The number is odd\")"
   ]
  },
  {
   "cell_type": "code",
   "execution_count": 67,
   "id": "eb8c16bb",
   "metadata": {},
   "outputs": [],
   "source": [
    "def even(n):\n",
    "    print(\"The number is even\")"
   ]
  },
  {
   "cell_type": "code",
   "execution_count": 68,
   "id": "8bcd9abd",
   "metadata": {},
   "outputs": [
    {
     "name": "stdout",
     "output_type": "stream",
     "text": [
      "The number is even\n",
      "The number is odd\n",
      "The number is even\n",
      "The number is odd\n",
      "The number is even\n",
      "The number is odd\n",
      "The number is even\n",
      "The number is odd\n",
      "The number is even\n",
      "The number is odd\n",
      "The number is even\n"
     ]
    }
   ],
   "source": [
    "for i in range(11):\n",
    "    if i%2==0:\n",
    "        even(i)\n",
    "    else:\n",
    "        odd(i)"
   ]
  },
  {
   "cell_type": "code",
   "execution_count": 69,
   "id": "a074b183",
   "metadata": {},
   "outputs": [],
   "source": [
    "def cube(n):\n",
    "    return n**3"
   ]
  },
  {
   "cell_type": "code",
   "execution_count": 70,
   "id": "8b47619f",
   "metadata": {},
   "outputs": [
    {
     "name": "stdout",
     "output_type": "stream",
     "text": [
      "0\n",
      "1\n",
      "8\n",
      "27\n",
      "64\n",
      "125\n",
      "216\n",
      "343\n",
      "512\n",
      "729\n"
     ]
    }
   ],
   "source": [
    "for i in range(0,10):\n",
    "    c=cube(i)\n",
    "    print(c)"
   ]
  },
  {
   "cell_type": "code",
   "execution_count": 71,
   "id": "da67e524",
   "metadata": {},
   "outputs": [
    {
     "name": "stdout",
     "output_type": "stream",
     "text": [
      "0\n",
      "1\n",
      "8\n",
      "27\n",
      "64\n",
      "125\n",
      "216\n",
      "343\n",
      "512\n",
      "729\n"
     ]
    }
   ],
   "source": [
    "def cube(n):\n",
    "    if n==10:\n",
    "        return 1\n",
    "    print(n**3)\n",
    "    cube(n+1)\n",
    "cube(0)"
   ]
  },
  {
   "cell_type": "code",
   "execution_count": 72,
   "id": "6d8f3af6",
   "metadata": {},
   "outputs": [
    {
     "name": "stdout",
     "output_type": "stream",
     "text": [
      "c\n"
     ]
    }
   ],
   "source": [
    "names1 = ['Mike', 'Barry', 'Charles', 'Dao']\n",
    "names2 = [name.lower() for name in names1]\n",
    "print (names2[2][0])"
   ]
  },
  {
   "cell_type": "code",
   "execution_count": 73,
   "id": "156cfde0",
   "metadata": {},
   "outputs": [
    {
     "data": {
      "text/plain": [
       "'2'"
      ]
     },
     "execution_count": 73,
     "metadata": {},
     "output_type": "execute_result"
    }
   ],
   "source": [
    "num1=[1,2,4,6,9]\n",
    "num2=num1*int(1.5*2)\n",
    "num3=str(num2)\n",
    "num3[4]"
   ]
  },
  {
   "cell_type": "code",
   "execution_count": 74,
   "id": "12c9b136",
   "metadata": {},
   "outputs": [
    {
     "data": {
      "text/plain": [
       "True"
      ]
     },
     "execution_count": 74,
     "metadata": {},
     "output_type": "execute_result"
    }
   ],
   "source": [
    "isinstance((1,),tuple)"
   ]
  },
  {
   "cell_type": "code",
   "execution_count": 75,
   "id": "cbeeb6b7",
   "metadata": {},
   "outputs": [
    {
     "data": {
      "text/plain": [
       "True"
      ]
     },
     "execution_count": 75,
     "metadata": {},
     "output_type": "execute_result"
    }
   ],
   "source": [
    "all([1.,4,2,'False'])"
   ]
  },
  {
   "cell_type": "code",
   "execution_count": 76,
   "id": "3044e3ed",
   "metadata": {},
   "outputs": [
    {
     "data": {
      "text/plain": [
       "False"
      ]
     },
     "execution_count": 76,
     "metadata": {},
     "output_type": "execute_result"
    }
   ],
   "source": [
    "any([0,''])"
   ]
  },
  {
   "cell_type": "code",
   "execution_count": 77,
   "id": "4dcfc330",
   "metadata": {},
   "outputs": [
    {
     "data": {
      "text/plain": [
       "True"
      ]
     },
     "execution_count": 77,
     "metadata": {},
     "output_type": "execute_result"
    }
   ],
   "source": [
    "bool('0')"
   ]
  },
  {
   "cell_type": "code",
   "execution_count": 78,
   "id": "15cbfe0b",
   "metadata": {},
   "outputs": [
    {
     "name": "stdout",
     "output_type": "stream",
     "text": [
      "3\n"
     ]
    }
   ],
   "source": [
    "x = True\n",
    "y = False\n",
    "z = False \n",
    "if not x or y: \n",
    "        print (1) \n",
    "elif not x or not y and z: \n",
    "        print (2) \n",
    "elif not x or y or not y and x: \n",
    "        print (3)\n",
    "else:\n",
    "         print (4)"
   ]
  },
  {
   "cell_type": "code",
   "execution_count": 87,
   "id": "e36d85b3",
   "metadata": {},
   "outputs": [
    {
     "ename": "SyntaxError",
     "evalue": "'return' outside function (2064532960.py, line 6)",
     "output_type": "error",
     "traceback": [
      "\u001b[1;36m  File \u001b[1;32m\"C:\\Users\\joshu\\AppData\\Local\\Temp\\ipykernel_10860\\2064532960.py\"\u001b[1;36m, line \u001b[1;32m6\u001b[0m\n\u001b[1;33m    return i\u001b[0m\n\u001b[1;37m    ^\u001b[0m\n\u001b[1;31mSyntaxError\u001b[0m\u001b[1;31m:\u001b[0m 'return' outside function\n"
     ]
    }
   ],
   "source": [
    "for i in [1,2,3,4,5]:\n",
    " if i//2==1 | i==4:\n",
    "    print(i)\n",
    " else:\n",
    "    break\n",
    " return i"
   ]
  },
  {
   "cell_type": "code",
   "execution_count": 91,
   "id": "1d6d2b37",
   "metadata": {},
   "outputs": [
    {
     "name": "stdout",
     "output_type": "stream",
     "text": [
      "emp\n",
      "salary\n"
     ]
    }
   ],
   "source": [
    "def display(**kwargs):\n",
    "    for i in kwargs:\n",
    "        print(i)\n",
    "\n",
    "display(emp=\"King\", salary=100000)"
   ]
  },
  {
   "cell_type": "code",
   "execution_count": 92,
   "id": "704e584f",
   "metadata": {},
   "outputs": [
    {
     "name": "stdout",
     "output_type": "stream",
     "text": [
      "7\n"
     ]
    }
   ],
   "source": [
    "def fun(a,*b):\n",
    "\n",
    "    print(a+len(b))\n",
    "\n",
    "fun(3,8,9,\"t\",4.0)"
   ]
  },
  {
   "cell_type": "code",
   "execution_count": 93,
   "id": "cdccec37",
   "metadata": {},
   "outputs": [
    {
     "name": "stdout",
     "output_type": "stream",
     "text": [
      "6 2 3 5\n"
     ]
    }
   ],
   "source": [
    "numbs=[1, 4, 7, 9, 1, 5]\n",
    "print(len(numbs), numbs.count(1), numbs.index(9), numbs.pop())"
   ]
  },
  {
   "cell_type": "code",
   "execution_count": 97,
   "id": "342148fc",
   "metadata": {},
   "outputs": [],
   "source": [
    "def func(v1,v2,v3):\n",
    "\n",
    "    print(v1+v2+v3)"
   ]
  },
  {
   "cell_type": "code",
   "execution_count": 99,
   "id": "06331d99",
   "metadata": {},
   "outputs": [
    {
     "ename": "SyntaxError",
     "evalue": "positional argument follows keyword argument (135985112.py, line 1)",
     "output_type": "error",
     "traceback": [
      "\u001b[1;36m  File \u001b[1;32m\"C:\\Users\\joshu\\AppData\\Local\\Temp\\ipykernel_10860\\135985112.py\"\u001b[1;36m, line \u001b[1;32m1\u001b[0m\n\u001b[1;33m    func('apple',v2='mango','lemon')\u001b[0m\n\u001b[1;37m                                   ^\u001b[0m\n\u001b[1;31mSyntaxError\u001b[0m\u001b[1;31m:\u001b[0m positional argument follows keyword argument\n"
     ]
    }
   ],
   "source": [
    "func('apple',v2='mango','lemon')"
   ]
  },
  {
   "cell_type": "code",
   "execution_count": 100,
   "id": "b1ee7e4b",
   "metadata": {},
   "outputs": [
    {
     "name": "stdout",
     "output_type": "stream",
     "text": [
      "TT\n",
      "TF\n",
      "FT\n",
      "FF\n"
     ]
    }
   ],
   "source": [
    "l=['T', 'F']\n",
    "for i in l:\n",
    "     for j in l:\n",
    "          print(i+j)"
   ]
  },
  {
   "cell_type": "code",
   "execution_count": 102,
   "id": "c1cd1639",
   "metadata": {},
   "outputs": [
    {
     "name": "stdout",
     "output_type": "stream",
     "text": [
      "{1}\n"
     ]
    }
   ],
   "source": [
    "numb_list=[1, 3, 2, 8, 0, 9]\n",
    "numb_tuple=(2, 4, 7, 1)\n",
    "numb_dictionary={'first': 1, 'second': 2, 'third':3}\n",
    "numb_set={numb_list[0], numb_tuple[-1], numb_dictionary['first']}\n",
    "print(numb_set)"
   ]
  },
  {
   "cell_type": "code",
   "execution_count": 6,
   "id": "3ef7a5e6",
   "metadata": {},
   "outputs": [
    {
     "name": "stdout",
     "output_type": "stream",
     "text": [
      "0\n",
      "1\n",
      "2\n",
      "3\n",
      "4\n"
     ]
    }
   ],
   "source": [
    "i=0\n",
    "while i<5:\n",
    " print(i)\n",
    " i+=1\n",
    "        \n",
    "\n"
   ]
  },
  {
   "cell_type": "code",
   "execution_count": 13,
   "id": "1b4220ec",
   "metadata": {},
   "outputs": [
    {
     "ename": "IndentationError",
     "evalue": "unindent does not match any outer indentation level (<tokenize>, line 4)",
     "output_type": "error",
     "traceback": [
      "\u001b[1;36m  File \u001b[1;32m\"<tokenize>\"\u001b[1;36m, line \u001b[1;32m4\u001b[0m\n\u001b[1;33m    elif: age>=18 and age<65:\u001b[0m\n\u001b[1;37m    ^\u001b[0m\n\u001b[1;31mIndentationError\u001b[0m\u001b[1;31m:\u001b[0m unindent does not match any outer indentation level\n"
     ]
    }
   ],
   "source": [
    "def age_comp(missing_value_1):\n",
    "     if age<18:\n",
    "            print('Child')\n",
    "        elif: age>=18 and age<65:\n",
    "            print('Adult')\n",
    "else:\n",
    "          print('Senior)\n",
    "\n",
    "*missing_value_3*"
   ]
  },
  {
   "cell_type": "code",
   "execution_count": 17,
   "id": "2d93f6c6",
   "metadata": {},
   "outputs": [
    {
     "name": "stdout",
     "output_type": "stream",
     "text": [
      "float\n"
     ]
    }
   ],
   "source": [
    "x=3.0\n",
    "if type(x)==int:\n",
    "     print('int')\n",
    "elif type(x)==float:\n",
    "     print('float')\n",
    "else:\n",
    "     print('string')"
   ]
  },
  {
   "cell_type": "code",
   "execution_count": 19,
   "id": "28554613",
   "metadata": {},
   "outputs": [
    {
     "ename": "ZeroDivisionError",
     "evalue": "division by zero",
     "output_type": "error",
     "traceback": [
      "\u001b[1;31m---------------------------------------------------------------------------\u001b[0m",
      "\u001b[1;31mZeroDivisionError\u001b[0m                         Traceback (most recent call last)",
      "\u001b[1;32m~\\AppData\\Local\\Temp\\ipykernel_36916\\1790306051.py\u001b[0m in \u001b[0;36m<module>\u001b[1;34m\u001b[0m\n\u001b[0;32m      1\u001b[0m \u001b[0mnum\u001b[0m\u001b[1;33m=\u001b[0m\u001b[1;36m8\u001b[0m\u001b[1;33m\u001b[0m\u001b[1;33m\u001b[0m\u001b[0m\n\u001b[0;32m      2\u001b[0m \u001b[1;32mfor\u001b[0m \u001b[0mi\u001b[0m \u001b[1;32min\u001b[0m \u001b[0mrange\u001b[0m\u001b[1;33m(\u001b[0m\u001b[1;36m5\u001b[0m\u001b[1;33m)\u001b[0m\u001b[1;33m:\u001b[0m\u001b[1;33m\u001b[0m\u001b[1;33m\u001b[0m\u001b[0m\n\u001b[1;32m----> 3\u001b[1;33m                  \u001b[0mprint\u001b[0m\u001b[1;33m(\u001b[0m\u001b[0mnum\u001b[0m\u001b[1;33m/\u001b[0m\u001b[0mi\u001b[0m\u001b[1;33m)\u001b[0m\u001b[1;33m\u001b[0m\u001b[1;33m\u001b[0m\u001b[0m\n\u001b[0m",
      "\u001b[1;31mZeroDivisionError\u001b[0m: division by zero"
     ]
    }
   ],
   "source": [
    "num=8\n",
    "for i in range(5):\n",
    "    print(num/i)"
   ]
  },
  {
   "cell_type": "code",
   "execution_count": 20,
   "id": "822c4314",
   "metadata": {},
   "outputs": [
    {
     "name": "stdout",
     "output_type": "stream",
     "text": [
      "4.0 <class 'float'>\n"
     ]
    }
   ],
   "source": [
    "num=2\n",
    "cube=(num**3)/2\n",
    "print(cube, type(cube))"
   ]
  },
  {
   "cell_type": "code",
   "execution_count": 21,
   "id": "cf026b96",
   "metadata": {},
   "outputs": [
    {
     "name": "stdout",
     "output_type": "stream",
     "text": [
      "2\n"
     ]
    }
   ],
   "source": [
    "x=5\n",
    "if x>=5 and x<1:\n",
    "     print(1)\n",
    "elif x<=4 or x>3:\n",
    "     print(2)\n",
    "else:\n",
    "     print(3)"
   ]
  },
  {
   "cell_type": "code",
   "execution_count": 23,
   "id": "361d9449",
   "metadata": {},
   "outputs": [],
   "source": [
    "import pandas as pd\n",
    " "
   ]
  },
  {
   "cell_type": "code",
   "execution_count": 25,
   "id": "a191b57e",
   "metadata": {},
   "outputs": [],
   "source": [
    "data = [0.85, 0.8, 0.98, 0.74, 0.4, 0.55, 0.94, 0.42, 0.43, 0.92]\n"
   ]
  },
  {
   "cell_type": "code",
   "execution_count": 28,
   "id": "49431a60",
   "metadata": {},
   "outputs": [
    {
     "data": {
      "text/plain": [
       "2    0.98\n",
       "6    0.94\n",
       "9    0.92\n",
       "0    0.85\n",
       "1    0.80\n",
       "3    0.74\n",
       "5    0.55\n",
       "8    0.43\n",
       "7    0.42\n",
       "4    0.40\n",
       "dtype: float64"
      ]
     },
     "execution_count": 28,
     "metadata": {},
     "output_type": "execute_result"
    }
   ],
   "source": [
    "ser = pd.Series(data=data)\n",
    "ser.sort_values(ascending=False)"
   ]
  },
  {
   "cell_type": "code",
   "execution_count": 27,
   "id": "49cbcad7",
   "metadata": {},
   "outputs": [
    {
     "name": "stdout",
     "output_type": "stream",
     "text": [
      "0    0.85\n",
      "1    0.80\n",
      "2    0.98\n",
      "3    0.74\n",
      "4    0.40\n",
      "5    0.55\n",
      "6    0.94\n",
      "7    0.42\n",
      "8    0.43\n",
      "9    0.92\n",
      "dtype: float64\n"
     ]
    }
   ],
   "source": [
    "print(ser)"
   ]
  },
  {
   "cell_type": "code",
   "execution_count": 29,
   "id": "2a420dd7",
   "metadata": {},
   "outputs": [
    {
     "data": {
      "text/plain": [
       "5    5\n",
       "dtype: int64"
      ]
     },
     "execution_count": 29,
     "metadata": {},
     "output_type": "execute_result"
    }
   ],
   "source": [
    "data = range(10)\n",
    "new_ser = pd.Series(data = data)\n",
    "new_ser[new_ser == 5]"
   ]
  },
  {
   "cell_type": "code",
   "execution_count": 30,
   "id": "811ce61f",
   "metadata": {},
   "outputs": [],
   "source": [
    "a1 = ['Hogwarts', 'Durmstrang', 'Beauxbatons']\n",
    "a2 = ['Hogwarts', 'Durmstrang', 'Beauxbatons']\n",
    "a3 = ['Hogwarts', 'Durmstrang', 'Beauxbatons']\n",
    "school = [a1, a2, a3]\n",
    "inst = ['School_1', 'School_2', 'School_3']\n",
    "Muggle_data = pd.DataFrame(data = school, columns = inst)"
   ]
  },
  {
   "cell_type": "code",
   "execution_count": 31,
   "id": "81e4ffd6",
   "metadata": {},
   "outputs": [
    {
     "name": "stdout",
     "output_type": "stream",
     "text": [
      "   School_1    School_2     School_3\n",
      "0  Hogwarts  Durmstrang  Beauxbatons\n",
      "1  Hogwarts  Durmstrang  Beauxbatons\n",
      "2  Hogwarts  Durmstrang  Beauxbatons\n"
     ]
    }
   ],
   "source": [
    "print(Muggle_data)"
   ]
  },
  {
   "cell_type": "code",
   "execution_count": 33,
   "id": "8d4212ea",
   "metadata": {},
   "outputs": [],
   "source": [
    "data = {'A':[1,2,3,4,5], 'B':[1,0,1,1,0]}"
   ]
  },
  {
   "cell_type": "code",
   "execution_count": 34,
   "id": "d81cf92f",
   "metadata": {},
   "outputs": [
    {
     "name": "stderr",
     "output_type": "stream",
     "text": [
      "C:\\Users\\joshu\\AppData\\Local\\Temp\\ipykernel_36916\\1181864398.py:2: UserWarning: Pandas doesn't allow columns to be created via a new attribute name - see https://pandas.pydata.org/pandas-docs/stable/indexing.html#attribute-access\n",
      "  df.C = df.A + df.B\n"
     ]
    }
   ],
   "source": [
    "df = pd.DataFrame(data = data)\n",
    "df.C = df.A + df.B"
   ]
  },
  {
   "cell_type": "code",
   "execution_count": 35,
   "id": "7fc1089a",
   "metadata": {},
   "outputs": [
    {
     "data": {
      "text/html": [
       "<div>\n",
       "<style scoped>\n",
       "    .dataframe tbody tr th:only-of-type {\n",
       "        vertical-align: middle;\n",
       "    }\n",
       "\n",
       "    .dataframe tbody tr th {\n",
       "        vertical-align: top;\n",
       "    }\n",
       "\n",
       "    .dataframe thead th {\n",
       "        text-align: right;\n",
       "    }\n",
       "</style>\n",
       "<table border=\"1\" class=\"dataframe\">\n",
       "  <thead>\n",
       "    <tr style=\"text-align: right;\">\n",
       "      <th></th>\n",
       "      <th>day</th>\n",
       "      <th>calories</th>\n",
       "      <th>duration_min</th>\n",
       "    </tr>\n",
       "  </thead>\n",
       "  <tbody>\n",
       "    <tr>\n",
       "      <th>0</th>\n",
       "      <td>day1</td>\n",
       "      <td>450</td>\n",
       "      <td>30</td>\n",
       "    </tr>\n",
       "    <tr>\n",
       "      <th>1</th>\n",
       "      <td>day2</td>\n",
       "      <td>300</td>\n",
       "      <td>25</td>\n",
       "    </tr>\n",
       "    <tr>\n",
       "      <th>2</th>\n",
       "      <td>day3</td>\n",
       "      <td>345</td>\n",
       "      <td>29</td>\n",
       "    </tr>\n",
       "    <tr>\n",
       "      <th>3</th>\n",
       "      <td>day4</td>\n",
       "      <td>520</td>\n",
       "      <td>39</td>\n",
       "    </tr>\n",
       "    <tr>\n",
       "      <th>4</th>\n",
       "      <td>day5</td>\n",
       "      <td>600</td>\n",
       "      <td>48</td>\n",
       "    </tr>\n",
       "  </tbody>\n",
       "</table>\n",
       "</div>"
      ],
      "text/plain": [
       "    day  calories  duration_min\n",
       "0  day1       450            30\n",
       "1  day2       300            25\n",
       "2  day3       345            29\n",
       "3  day4       520            39\n",
       "4  day5       600            48"
      ]
     },
     "execution_count": 35,
     "metadata": {},
     "output_type": "execute_result"
    }
   ],
   "source": [
    "calorie_data = pd.DataFrame({'day': ['day1','day2','day3','day4','day5']\n",
    "                           ,'calories': [450, 300, 345, 520, 600]\n",
    "                           ,'duration_min': [30, 25, 29, 39, 48]\n",
    "                           })\n",
    "calorie_data"
   ]
  },
  {
   "cell_type": "code",
   "execution_count": 36,
   "id": "16bd1dd1",
   "metadata": {},
   "outputs": [
    {
     "data": {
      "text/html": [
       "<div>\n",
       "<style scoped>\n",
       "    .dataframe tbody tr th:only-of-type {\n",
       "        vertical-align: middle;\n",
       "    }\n",
       "\n",
       "    .dataframe tbody tr th {\n",
       "        vertical-align: top;\n",
       "    }\n",
       "\n",
       "    .dataframe thead th {\n",
       "        text-align: right;\n",
       "    }\n",
       "</style>\n",
       "<table border=\"1\" class=\"dataframe\">\n",
       "  <thead>\n",
       "    <tr style=\"text-align: right;\">\n",
       "      <th></th>\n",
       "      <th>calories</th>\n",
       "    </tr>\n",
       "  </thead>\n",
       "  <tbody>\n",
       "    <tr>\n",
       "      <th>1</th>\n",
       "      <td>300</td>\n",
       "    </tr>\n",
       "    <tr>\n",
       "      <th>2</th>\n",
       "      <td>345</td>\n",
       "    </tr>\n",
       "  </tbody>\n",
       "</table>\n",
       "</div>"
      ],
      "text/plain": [
       "   calories\n",
       "1       300\n",
       "2       345"
      ]
     },
     "execution_count": 36,
     "metadata": {},
     "output_type": "execute_result"
    }
   ],
   "source": [
    "calorie_data.loc[[1,2],['calories']]"
   ]
  },
  {
   "cell_type": "code",
   "execution_count": 37,
   "id": "aef708ae",
   "metadata": {},
   "outputs": [
    {
     "data": {
      "text/html": [
       "<div>\n",
       "<style scoped>\n",
       "    .dataframe tbody tr th:only-of-type {\n",
       "        vertical-align: middle;\n",
       "    }\n",
       "\n",
       "    .dataframe tbody tr th {\n",
       "        vertical-align: top;\n",
       "    }\n",
       "\n",
       "    .dataframe thead th {\n",
       "        text-align: right;\n",
       "    }\n",
       "</style>\n",
       "<table border=\"1\" class=\"dataframe\">\n",
       "  <thead>\n",
       "    <tr style=\"text-align: right;\">\n",
       "      <th></th>\n",
       "      <th>calories</th>\n",
       "    </tr>\n",
       "  </thead>\n",
       "  <tbody>\n",
       "    <tr>\n",
       "      <th>1</th>\n",
       "      <td>300</td>\n",
       "    </tr>\n",
       "    <tr>\n",
       "      <th>2</th>\n",
       "      <td>345</td>\n",
       "    </tr>\n",
       "  </tbody>\n",
       "</table>\n",
       "</div>"
      ],
      "text/plain": [
       "   calories\n",
       "1       300\n",
       "2       345"
      ]
     },
     "execution_count": 37,
     "metadata": {},
     "output_type": "execute_result"
    }
   ],
   "source": [
    "calorie_data.iloc[[1,2],[1]]"
   ]
  },
  {
   "cell_type": "code",
   "execution_count": 38,
   "id": "dc9c690b",
   "metadata": {},
   "outputs": [],
   "source": [
    "import pandas as pd\n",
    "import numpy as np\n",
    "ser1 = pd.Series(list('abcd'))\n",
    "ser2 = pd.Series(np.arange(4))"
   ]
  },
  {
   "cell_type": "code",
   "execution_count": 40,
   "id": "f788c12a",
   "metadata": {},
   "outputs": [
    {
     "name": "stdout",
     "output_type": "stream",
     "text": [
      "   0  1\n",
      "0  a  0\n",
      "1  b  1\n",
      "2  c  2\n",
      "3  d  3\n"
     ]
    }
   ],
   "source": [
    "df = pd.concat([ser1, ser2], axis = 1)\n",
    "print(df)"
   ]
  },
  {
   "cell_type": "code",
   "execution_count": 41,
   "id": "67a7c74c",
   "metadata": {},
   "outputs": [],
   "source": [
    "df = pd.DataFrame({'col1': ser1, 'col2': ser2})"
   ]
  },
  {
   "cell_type": "code",
   "execution_count": 42,
   "id": "f87af5ee",
   "metadata": {},
   "outputs": [
    {
     "name": "stdout",
     "output_type": "stream",
     "text": [
      "  col1  col2\n",
      "0    a     0\n",
      "1    b     1\n",
      "2    c     2\n",
      "3    d     3\n"
     ]
    }
   ],
   "source": [
    "print(df)"
   ]
  },
  {
   "cell_type": "code",
   "execution_count": 43,
   "id": "aba253d0",
   "metadata": {},
   "outputs": [],
   "source": [
    "df = pd.concat([ser1, ser2], axis = 0)"
   ]
  },
  {
   "cell_type": "code",
   "execution_count": 44,
   "id": "7c332545",
   "metadata": {},
   "outputs": [
    {
     "name": "stdout",
     "output_type": "stream",
     "text": [
      "0    a\n",
      "1    b\n",
      "2    c\n",
      "3    d\n",
      "0    0\n",
      "1    1\n",
      "2    2\n",
      "3    3\n",
      "dtype: object\n"
     ]
    }
   ],
   "source": [
    "print(df)"
   ]
  },
  {
   "cell_type": "code",
   "execution_count": 45,
   "id": "da4872bb",
   "metadata": {},
   "outputs": [],
   "source": [
    "data1 = {'Physics': [77, 75, 100, 10, 59], 'Chemistry': [85, 70, 99, 30, 80]}\n",
    "df1 = pd.DataFrame(data = data1)\n",
    "data2 = {'Student_ID': [0, 1, 2, 3, 4], 'Maths': [80, 90, 88, 25, 90]}\n",
    "df2 = pd.DataFrame(data=data2)\n",
    "df3 = pd.concat([df1, df2], join = 'inner', axis = 0, ignore_index = True)"
   ]
  },
  {
   "cell_type": "code",
   "execution_count": 46,
   "id": "b4c40f72",
   "metadata": {},
   "outputs": [
    {
     "name": "stdout",
     "output_type": "stream",
     "text": [
      "Empty DataFrame\n",
      "Columns: []\n",
      "Index: [0, 1, 2, 3, 4, 5, 6, 7, 8, 9]\n"
     ]
    }
   ],
   "source": [
    "print(df3)"
   ]
  },
  {
   "cell_type": "code",
   "execution_count": 47,
   "id": "d5cd97e9",
   "metadata": {},
   "outputs": [],
   "source": [
    "data1 = {'Student_ID': [3, 4, 6, 8, 10], 'CGPA': [4.5, 3, 4.37, 3.5, 4]}\n",
    "df1 = pd.DataFrame(data = data1)\n",
    "data2 = {'Student_ID': [0, 1, 2, 3, 4, 5, 6, 7, 8, 9, 10], \n",
    "'Maths': [4,52, 5, 2.5, 3, 3.9, 2.8, 4.75, 3.68, 5, 4.8]}\n",
    "df2 = pd.DataFrame(data = data2)\n",
    "df3 = pd.merge(df2, df1, on = 'Student_ID', how = 'left') "
   ]
  },
  {
   "cell_type": "code",
   "execution_count": 48,
   "id": "49b23146",
   "metadata": {},
   "outputs": [
    {
     "name": "stdout",
     "output_type": "stream",
     "text": [
      "    Student_ID  Maths  CGPA\n",
      "0            0   4.00   NaN\n",
      "1            1  52.00   NaN\n",
      "2            2   5.00   NaN\n",
      "3            3   2.50  4.50\n",
      "4            4   3.00  3.00\n",
      "5            5   3.90   NaN\n",
      "6            6   2.80  4.37\n",
      "7            7   4.75   NaN\n",
      "8            8   3.68  3.50\n",
      "9            9   5.00   NaN\n",
      "10          10   4.80  4.00\n"
     ]
    }
   ],
   "source": [
    "print(df3)"
   ]
  },
  {
   "cell_type": "code",
   "execution_count": 49,
   "id": "3949ea6c",
   "metadata": {},
   "outputs": [
    {
     "name": "stdout",
     "output_type": "stream",
     "text": [
      "              Marks      \n",
      "              Alisa Bobby\n",
      "After Course     95    89\n",
      "Before Course    82    78\n"
     ]
    }
   ],
   "source": [
    "header = pd.MultiIndex.from_product([['Before Course','After Course'],['Marks']])\n",
    "d = ([[82,95],[78,89]])\n",
    " \n",
    "my_df = pd.DataFrame(d,\n",
    " index = ['Alisa','Bobby'],\n",
    " columns = header)\n",
    "\n",
    "print(my_df.stack(level = 0).unstack(level = 0))"
   ]
  },
  {
   "cell_type": "code",
   "execution_count": 50,
   "id": "8ad587ca",
   "metadata": {},
   "outputs": [],
   "source": [
    "df = pd.DataFrame({\"Gender\": [\"Male\", \"Male\", \"Female\", \"Female\", \"Female\", \"Female\", \"Male\", \"Male\", \"Female\"],\n",
    " \"Movie_Genre\": [\"Action\", \"Comedy\", \"Drama\", \"Action\", \"Comedy\", \"Drama\", \"Action\", \"Drama\", \"Action\"],\n",
    " \"Rating\": [1, 5, 3, 2, 3, 4, 4, 5, 4]})"
   ]
  },
  {
   "cell_type": "code",
   "execution_count": 51,
   "id": "a02303f7",
   "metadata": {},
   "outputs": [
    {
     "data": {
      "text/html": [
       "<div>\n",
       "<style scoped>\n",
       "    .dataframe tbody tr th:only-of-type {\n",
       "        vertical-align: middle;\n",
       "    }\n",
       "\n",
       "    .dataframe tbody tr th {\n",
       "        vertical-align: top;\n",
       "    }\n",
       "\n",
       "    .dataframe thead th {\n",
       "        text-align: right;\n",
       "    }\n",
       "</style>\n",
       "<table border=\"1\" class=\"dataframe\">\n",
       "  <thead>\n",
       "    <tr style=\"text-align: right;\">\n",
       "      <th></th>\n",
       "      <th>Rating</th>\n",
       "    </tr>\n",
       "    <tr>\n",
       "      <th>Gender</th>\n",
       "      <th></th>\n",
       "    </tr>\n",
       "  </thead>\n",
       "  <tbody>\n",
       "    <tr>\n",
       "      <th>Female</th>\n",
       "      <td>3.20</td>\n",
       "    </tr>\n",
       "    <tr>\n",
       "      <th>Male</th>\n",
       "      <td>3.75</td>\n",
       "    </tr>\n",
       "  </tbody>\n",
       "</table>\n",
       "</div>"
      ],
      "text/plain": [
       "        Rating\n",
       "Gender        \n",
       "Female    3.20\n",
       "Male      3.75"
      ]
     },
     "execution_count": 51,
     "metadata": {},
     "output_type": "execute_result"
    }
   ],
   "source": [
    "pd.pivot_table(data=df, index='Gender', values='Rating', aggfunc='mean')"
   ]
  },
  {
   "cell_type": "code",
   "execution_count": 53,
   "id": "a6ab9059",
   "metadata": {},
   "outputs": [
    {
     "data": {
      "text/html": [
       "<div>\n",
       "<style scoped>\n",
       "    .dataframe tbody tr th:only-of-type {\n",
       "        vertical-align: middle;\n",
       "    }\n",
       "\n",
       "    .dataframe tbody tr th {\n",
       "        vertical-align: top;\n",
       "    }\n",
       "\n",
       "    .dataframe thead th {\n",
       "        text-align: right;\n",
       "    }\n",
       "</style>\n",
       "<table border=\"1\" class=\"dataframe\">\n",
       "  <thead>\n",
       "    <tr style=\"text-align: right;\">\n",
       "      <th></th>\n",
       "      <th>Rating</th>\n",
       "    </tr>\n",
       "    <tr>\n",
       "      <th>Gender</th>\n",
       "      <th></th>\n",
       "    </tr>\n",
       "  </thead>\n",
       "  <tbody>\n",
       "    <tr>\n",
       "      <th>Female</th>\n",
       "      <td>3.20</td>\n",
       "    </tr>\n",
       "    <tr>\n",
       "      <th>Male</th>\n",
       "      <td>3.75</td>\n",
       "    </tr>\n",
       "  </tbody>\n",
       "</table>\n",
       "</div>"
      ],
      "text/plain": [
       "        Rating\n",
       "Gender        \n",
       "Female    3.20\n",
       "Male      3.75"
      ]
     },
     "execution_count": 53,
     "metadata": {},
     "output_type": "execute_result"
    }
   ],
   "source": [
    "pd.pivot_table(data=df, index='Gender')"
   ]
  },
  {
   "cell_type": "code",
   "execution_count": 54,
   "id": "1ae26921",
   "metadata": {},
   "outputs": [
    {
     "data": {
      "text/html": [
       "<div>\n",
       "<style scoped>\n",
       "    .dataframe tbody tr th:only-of-type {\n",
       "        vertical-align: middle;\n",
       "    }\n",
       "\n",
       "    .dataframe tbody tr th {\n",
       "        vertical-align: top;\n",
       "    }\n",
       "\n",
       "    .dataframe thead th {\n",
       "        text-align: right;\n",
       "    }\n",
       "</style>\n",
       "<table border=\"1\" class=\"dataframe\">\n",
       "  <thead>\n",
       "    <tr style=\"text-align: right;\">\n",
       "      <th></th>\n",
       "      <th>Rating</th>\n",
       "    </tr>\n",
       "    <tr>\n",
       "      <th>Gender</th>\n",
       "      <th></th>\n",
       "    </tr>\n",
       "  </thead>\n",
       "  <tbody>\n",
       "    <tr>\n",
       "      <th>Female</th>\n",
       "      <td>3.20</td>\n",
       "    </tr>\n",
       "    <tr>\n",
       "      <th>Male</th>\n",
       "      <td>3.75</td>\n",
       "    </tr>\n",
       "  </tbody>\n",
       "</table>\n",
       "</div>"
      ],
      "text/plain": [
       "        Rating\n",
       "Gender        \n",
       "Female    3.20\n",
       "Male      3.75"
      ]
     },
     "execution_count": 54,
     "metadata": {},
     "output_type": "execute_result"
    }
   ],
   "source": [
    "pd.pivot_table(data=df, index='Gender', values='Rating')"
   ]
  },
  {
   "cell_type": "code",
   "execution_count": 56,
   "id": "8606b5f5",
   "metadata": {},
   "outputs": [
    {
     "name": "stderr",
     "output_type": "stream",
     "text": [
      "C:\\Users\\joshu\\AppData\\Local\\Temp\\ipykernel_36916\\3155889201.py:1: FutureWarning: Dropping invalid columns in DataFrameGroupBy.mean is deprecated. In a future version, a TypeError will be raised. Before calling .mean, select only columns which should be valid for the function.\n",
      "  pd.pivot_table(data=df, index='Rating', values='Gender', aggfunc='mean')\n"
     ]
    },
    {
     "data": {
      "text/html": [
       "<div>\n",
       "<style scoped>\n",
       "    .dataframe tbody tr th:only-of-type {\n",
       "        vertical-align: middle;\n",
       "    }\n",
       "\n",
       "    .dataframe tbody tr th {\n",
       "        vertical-align: top;\n",
       "    }\n",
       "\n",
       "    .dataframe thead th {\n",
       "        text-align: right;\n",
       "    }\n",
       "</style>\n",
       "<table border=\"1\" class=\"dataframe\">\n",
       "  <thead>\n",
       "    <tr style=\"text-align: right;\">\n",
       "      <th></th>\n",
       "    </tr>\n",
       "    <tr>\n",
       "      <th>Rating</th>\n",
       "    </tr>\n",
       "  </thead>\n",
       "  <tbody>\n",
       "    <tr>\n",
       "      <th>1</th>\n",
       "    </tr>\n",
       "    <tr>\n",
       "      <th>2</th>\n",
       "    </tr>\n",
       "    <tr>\n",
       "      <th>3</th>\n",
       "    </tr>\n",
       "    <tr>\n",
       "      <th>4</th>\n",
       "    </tr>\n",
       "    <tr>\n",
       "      <th>5</th>\n",
       "    </tr>\n",
       "  </tbody>\n",
       "</table>\n",
       "</div>"
      ],
      "text/plain": [
       "Empty DataFrame\n",
       "Columns: []\n",
       "Index: [1, 2, 3, 4, 5]"
      ]
     },
     "execution_count": 56,
     "metadata": {},
     "output_type": "execute_result"
    }
   ],
   "source": [
    "pd.pivot_table(data=df, index='Rating', values='Gender', aggfunc='mean')"
   ]
  },
  {
   "cell_type": "code",
   "execution_count": 57,
   "id": "b844345c",
   "metadata": {},
   "outputs": [
    {
     "ename": "SyntaxError",
     "evalue": "positional argument follows keyword argument (4099935273.py, line 1)",
     "output_type": "error",
     "traceback": [
      "\u001b[1;36m  File \u001b[1;32m\"C:\\Users\\joshu\\AppData\\Local\\Temp\\ipykernel_36916\\4099935273.py\"\u001b[1;36m, line \u001b[1;32m1\u001b[0m\n\u001b[1;33m    pd.pivot_table(data=df, index='Gender', 'Movie_Genre' , values='Rating', aggfunc='sum')\u001b[0m\n\u001b[1;37m                                                                                          ^\u001b[0m\n\u001b[1;31mSyntaxError\u001b[0m\u001b[1;31m:\u001b[0m positional argument follows keyword argument\n"
     ]
    }
   ],
   "source": [
    "pd.pivot_table(data=df, index='Gender', 'Movie_Genre' , values='Rating', aggfunc='sum')"
   ]
  },
  {
   "cell_type": "code",
   "execution_count": 59,
   "id": "02411f67",
   "metadata": {},
   "outputs": [
    {
     "data": {
      "text/html": [
       "<div>\n",
       "<style scoped>\n",
       "    .dataframe tbody tr th:only-of-type {\n",
       "        vertical-align: middle;\n",
       "    }\n",
       "\n",
       "    .dataframe tbody tr th {\n",
       "        vertical-align: top;\n",
       "    }\n",
       "\n",
       "    .dataframe thead th {\n",
       "        text-align: right;\n",
       "    }\n",
       "</style>\n",
       "<table border=\"1\" class=\"dataframe\">\n",
       "  <thead>\n",
       "    <tr style=\"text-align: right;\">\n",
       "      <th></th>\n",
       "      <th></th>\n",
       "      <th>Rating</th>\n",
       "    </tr>\n",
       "    <tr>\n",
       "      <th>Gender</th>\n",
       "      <th>Movie_Genre</th>\n",
       "      <th></th>\n",
       "    </tr>\n",
       "  </thead>\n",
       "  <tbody>\n",
       "    <tr>\n",
       "      <th rowspan=\"3\" valign=\"top\">Female</th>\n",
       "      <th>Action</th>\n",
       "      <td>6</td>\n",
       "    </tr>\n",
       "    <tr>\n",
       "      <th>Comedy</th>\n",
       "      <td>3</td>\n",
       "    </tr>\n",
       "    <tr>\n",
       "      <th>Drama</th>\n",
       "      <td>7</td>\n",
       "    </tr>\n",
       "    <tr>\n",
       "      <th rowspan=\"3\" valign=\"top\">Male</th>\n",
       "      <th>Action</th>\n",
       "      <td>5</td>\n",
       "    </tr>\n",
       "    <tr>\n",
       "      <th>Comedy</th>\n",
       "      <td>5</td>\n",
       "    </tr>\n",
       "    <tr>\n",
       "      <th>Drama</th>\n",
       "      <td>5</td>\n",
       "    </tr>\n",
       "  </tbody>\n",
       "</table>\n",
       "</div>"
      ],
      "text/plain": [
       "                    Rating\n",
       "Gender Movie_Genre        \n",
       "Female Action            6\n",
       "       Comedy            3\n",
       "       Drama             7\n",
       "Male   Action            5\n",
       "       Comedy            5\n",
       "       Drama             5"
      ]
     },
     "execution_count": 59,
     "metadata": {},
     "output_type": "execute_result"
    }
   ],
   "source": [
    "pd.pivot_table(data=df, index=['Gender', 'Movie_Genre'] , values='Rating', aggfunc='sum')"
   ]
  },
  {
   "cell_type": "code",
   "execution_count": 60,
   "id": "d2d9a233",
   "metadata": {},
   "outputs": [
    {
     "data": {
      "text/html": [
       "<div>\n",
       "<style scoped>\n",
       "    .dataframe tbody tr th:only-of-type {\n",
       "        vertical-align: middle;\n",
       "    }\n",
       "\n",
       "    .dataframe tbody tr th {\n",
       "        vertical-align: top;\n",
       "    }\n",
       "\n",
       "    .dataframe thead th {\n",
       "        text-align: right;\n",
       "    }\n",
       "</style>\n",
       "<table border=\"1\" class=\"dataframe\">\n",
       "  <thead>\n",
       "    <tr style=\"text-align: right;\">\n",
       "      <th></th>\n",
       "      <th></th>\n",
       "      <th>Rating</th>\n",
       "    </tr>\n",
       "    <tr>\n",
       "      <th>Gender</th>\n",
       "      <th>Movie_Genre</th>\n",
       "      <th></th>\n",
       "    </tr>\n",
       "  </thead>\n",
       "  <tbody>\n",
       "    <tr>\n",
       "      <th rowspan=\"3\" valign=\"top\">Female</th>\n",
       "      <th>Action</th>\n",
       "      <td>6</td>\n",
       "    </tr>\n",
       "    <tr>\n",
       "      <th>Comedy</th>\n",
       "      <td>3</td>\n",
       "    </tr>\n",
       "    <tr>\n",
       "      <th>Drama</th>\n",
       "      <td>7</td>\n",
       "    </tr>\n",
       "    <tr>\n",
       "      <th rowspan=\"3\" valign=\"top\">Male</th>\n",
       "      <th>Action</th>\n",
       "      <td>5</td>\n",
       "    </tr>\n",
       "    <tr>\n",
       "      <th>Comedy</th>\n",
       "      <td>5</td>\n",
       "    </tr>\n",
       "    <tr>\n",
       "      <th>Drama</th>\n",
       "      <td>5</td>\n",
       "    </tr>\n",
       "  </tbody>\n",
       "</table>\n",
       "</div>"
      ],
      "text/plain": [
       "                    Rating\n",
       "Gender Movie_Genre        \n",
       "Female Action            6\n",
       "       Comedy            3\n",
       "       Drama             7\n",
       "Male   Action            5\n",
       "       Comedy            5\n",
       "       Drama             5"
      ]
     },
     "execution_count": 60,
     "metadata": {},
     "output_type": "execute_result"
    }
   ],
   "source": [
    "pd.pivot_table(data=df, index=['Gender', 'Movie_Genre'] , values='Rating', aggfunc='sum')"
   ]
  },
  {
   "cell_type": "code",
   "execution_count": 61,
   "id": "b63d5eb4",
   "metadata": {},
   "outputs": [
    {
     "data": {
      "text/plain": [
       "(4, 3)"
      ]
     },
     "execution_count": 61,
     "metadata": {},
     "output_type": "execute_result"
    }
   ],
   "source": [
    "df_employee = [('John', 3400, 'Sydeny'),\n",
    " ('Robert', 3000, 'Chicago'),\n",
    " ('Aadi', 1600, 'New York'),\n",
    " ('Robert', 3000, 'Chicago'),\n",
    " ('Robert', 3000, 'Chicago'),\n",
    " ('Robert', 3000, 'Texas'),\n",
    " ('Aadi', 4000, 'London'),\n",
    " ('Sachin', 3000, 'Chicago')]\n",
    "df_employee = pd.DataFrame(df_employee, columns = ['Name', 'Salary', 'City'])\n",
    "df_employee[df_employee.duplicated('Name')].shape"
   ]
  },
  {
   "cell_type": "code",
   "execution_count": 65,
   "id": "813ba657",
   "metadata": {},
   "outputs": [
    {
     "ename": "NameError",
     "evalue": "name 'duplicated' is not defined",
     "output_type": "error",
     "traceback": [
      "\u001b[1;31m---------------------------------------------------------------------------\u001b[0m",
      "\u001b[1;31mNameError\u001b[0m                                 Traceback (most recent call last)",
      "\u001b[1;32m~\\AppData\\Local\\Temp\\ipykernel_36916\\1872141418.py\u001b[0m in \u001b[0;36m<module>\u001b[1;34m\u001b[0m\n\u001b[1;32m----> 1\u001b[1;33m \u001b[0mduplicated\u001b[0m\u001b[1;33m(\u001b[0m\u001b[1;33m)\u001b[0m\u001b[1;33m\u001b[0m\u001b[1;33m\u001b[0m\u001b[0m\n\u001b[0m",
      "\u001b[1;31mNameError\u001b[0m: name 'duplicated' is not defined"
     ]
    }
   ],
   "source": []
  },
  {
   "cell_type": "code",
   "execution_count": null,
   "id": "e54c61bf",
   "metadata": {},
   "outputs": [],
   "source": []
  }
 ],
 "metadata": {
  "kernelspec": {
   "display_name": "Python 3 (ipykernel)",
   "language": "python",
   "name": "python3"
  },
  "language_info": {
   "codemirror_mode": {
    "name": "ipython",
    "version": 3
   },
   "file_extension": ".py",
   "mimetype": "text/x-python",
   "name": "python",
   "nbconvert_exporter": "python",
   "pygments_lexer": "ipython3",
   "version": "3.9.13"
  }
 },
 "nbformat": 4,
 "nbformat_minor": 5
}
