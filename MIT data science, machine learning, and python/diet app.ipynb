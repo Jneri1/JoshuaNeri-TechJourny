{
 "cells": [
  {
   "cell_type": "code",
   "execution_count": null,
   "metadata": {},
   "outputs": [],
   "source": [
    "import venv\n",
    "import Flask # type: ignore\n",
    "\n",
    "new_func()\n",
    "\n",
    "from flask import Flask, render_template\n",
    "\n",
    "# Initialize the Flask application\n",
    "app = Flask(__name__)\n",
    "\n",
    "# Define a route for the home page\n",
    "@app.route('/')\n",
    "def home():\n",
    "    return render_template('index.html')  # Render an HTML template\n",
    "\n",
    "# Start the application\n",
    "if __name__ == '__main__':\n",
    "    app.run(debug=True)\n",
    "\n",
    "\" my flask app\"\n",
    "app.py              # Main Flask application file\n",
    "templates          # Folder for HTML templates\n",
    "index.html      # Main HTML file\n",
    "static/             # Folder for static files (CSS, JS, images)\n",
    "style.css       # CSS file for styling\n"
   ]
  }
 ],
 "metadata": {
  "kernelspec": {
   "display_name": "Python 3 (ipykernel)",
   "language": "python",
   "name": "python3"
  },
  "language_info": {
   "codemirror_mode": {
    "name": "ipython",
    "version": 3
   },
   "file_extension": ".py",
   "mimetype": "text/x-python",
   "name": "python",
   "nbconvert_exporter": "python",
   "pygments_lexer": "ipython3",
   "version": "3.9.13"
  }
 },
 "nbformat": 4,
 "nbformat_minor": 2
}
